{
 "cells": [
  {
   "cell_type": "code",
   "execution_count": 1,
   "metadata": {},
   "outputs": [],
   "source": [
    "# Init chroma db with city data from md files\n",
    "# Augment llama 2 with city data from chroma db\n",
    "# Suggest cities to visit based on user input"
   ]
  },
  {
   "cell_type": "code",
   "execution_count": 22,
   "metadata": {},
   "outputs": [],
   "source": [
    "from langchain_core.prompts import ChatPromptTemplate\n",
    "from langchain_community.llms import Ollama"
   ]
  },
  {
   "cell_type": "code",
   "execution_count": 2,
   "metadata": {},
   "outputs": [],
   "source": [
    "%load_ext autoreload\n",
    "%autoreload 2"
   ]
  },
  {
   "cell_type": "code",
   "execution_count": 3,
   "metadata": {},
   "outputs": [],
   "source": [
    "from chroma import init_chroma"
   ]
  },
  {
   "cell_type": "code",
   "execution_count": 9,
   "metadata": {},
   "outputs": [
    {
     "name": "stdout",
     "output_type": "stream",
     "text": [
      "Split 10 documents into 28 chunks.\n",
      "Phra Kaew, and experience the unique charm of floating markets. The city's street food is renowned, offering a variety of flavorful dishes at affordable prices. Bangkok is also a shopping paradise, with everything from high-end malls to local markets offering a range of goods.\n",
      "{'source': 'data/cities/bangkok.md', 'start_index': 195}\n",
      "Saved 28 chunks to data/chroma.\n"
     ]
    }
   ],
   "source": [
    "db = init_chroma()\n",
    "llm = Ollama()"
   ]
  },
  {
   "cell_type": "code",
   "execution_count": 5,
   "metadata": {},
   "outputs": [],
   "source": [
    "PROMPT_TEMPLATE = \"\"\"\n",
    "<<SYS>>\n",
    "You are a travel agent. You have a database of cities and their attractions. You are tasked with suggesting cities to visit based on user input.\n",
    "<</SYS>>\n",
    "\n",
    "[INST]\n",
    "Tell the user about the city they ask about. If it does not exist in the context, tell them sorry, you don't have that information.\n",
    "\n",
    "context: {context}\n",
    "[/INST]\n",
    "\n",
    "User: Tell me about the city {city}\n",
    "\"\"\""
   ]
  },
  {
   "cell_type": "code",
   "execution_count": 38,
   "metadata": {},
   "outputs": [
    {
     "name": "stderr",
     "output_type": "stream",
     "text": [
      "/Users/gustaf/opt/miniconda3/lib/python3.8/site-packages/langchain_core/vectorstores.py:331: UserWarning: Relevance scores must be between 0 and 1, got [(Document(page_content=\"and Topkapi Palace, witnessing the city's rich history firsthand. The Grand Bazaar and Spice Bazaar offer a vibrant shopping experience, where visitors can find traditional Turkish crafts, spices, and textiles. Istanbul's culinary scene is also a major draw, with a wide array of delicious Turkish\", metadata={'source': 'data/cities/istanbul.md', 'start_index': 197}), -0.03805097048394135)]\n",
      "  warnings.warn(\n"
     ]
    },
    {
     "name": "stdout",
     "output_type": "stream",
     "text": [
      "page_content=\"and Topkapi Palace, witnessing the city's rich history firsthand. The Grand Bazaar and Spice Bazaar offer a vibrant shopping experience, where visitors can find traditional Turkish crafts, spices, and textiles. Istanbul's culinary scene is also a major draw, with a wide array of delicious Turkish\" metadata={'source': 'data/cities/istanbul.md', 'start_index': 197}\n",
      "-0.03805097048394135\n"
     ]
    },
    {
     "data": {
      "text/plain": [
       "\"Travel Agent: Of course! Istanbul is a beautiful and vibrant city that offers a unique blend of Eastern and Western cultures. It is located in Turkey and is known for its rich history, stunning architecture, and delicious cuisine.\\n\\nSome popular attractions in Istanbul include the Topkapi Palace, which was the primary residence of the Ottoman sultans for over 400 years and now serves as a museum showcasing the city's rich history. The Grand Bazaar and Spice Bazaar are also must-visit places, offering a vibrant shopping experience where visitors can find traditional Turkish crafts, spices, and textiles.\\n\\nIstanbul's culinary scene is also a major draw, with a wide array of delicious Turkish dishes such as kebabs, baklava, and Turkish delight. The city is also home to many world-class museums, including the Istanbul Museum of Modern Art and the Sakıp Sabancı Museum.\\n\\nIn addition to its cultural and historical attractions, Istanbul is also known for its vibrant nightlife, with many bars, clubs, and live music venues to choose from. Whether you're interested in history, culture, food, or nightlife, Istanbul has something for everyone.\\n\\nI hope this information helps! Is there anything else you would like to know about Istanbul?\""
      ]
     },
     "execution_count": 38,
     "metadata": {},
     "output_type": "execute_result"
    }
   ],
   "source": [
    "query_text = input(\"Enter a city: \")\n",
    "\n",
    "results = db.similarity_search_with_relevance_scores(query_text, k=1)\n",
    "context = \"Unable to find matching city\"\n",
    "\n",
    "if len(results) > 0:\n",
    "  [document, score] = results[0]\n",
    "  print(document)\n",
    "  print(score)\n",
    "\n",
    "  if(score > 0.5):\n",
    "    context = document.page_content\n",
    "\n",
    "prompt = ChatPromptTemplate.from_template(PROMPT_TEMPLATE)\n",
    "chain = prompt | llm\n",
    "\n",
    "chain.invoke({ \"context\": document.page_content, \"city\": query_text})"
   ]
  }
 ],
 "metadata": {
  "kernelspec": {
   "display_name": "base",
   "language": "python",
   "name": "python3"
  },
  "language_info": {
   "codemirror_mode": {
    "name": "ipython",
    "version": 3
   },
   "file_extension": ".py",
   "mimetype": "text/x-python",
   "name": "python",
   "nbconvert_exporter": "python",
   "pygments_lexer": "ipython3",
   "version": "3.8.15"
  }
 },
 "nbformat": 4,
 "nbformat_minor": 2
}
